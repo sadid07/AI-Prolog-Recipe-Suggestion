{
 "cells": [
  {
   "cell_type": "markdown",
   "metadata": {
    "id": "1GCX5CfgNty2"
   },
   "source": [
    "\n",
    "# FoodBot Recipe (Prolog Code)"
   ]
  },
  {
   "cell_type": "code",
   "execution_count": null,
   "metadata": {
    "colab": {
     "base_uri": "https://localhost:8080/"
    },
    "id": "9BNXu9__M0YN",
    "outputId": "1fcd948f-7e48-4e12-aa6c-76cefdc71ae7"
   },
   "outputs": [
    {
     "name": "stdout",
     "output_type": "stream",
     "text": [
      "Reading package lists... Done\n",
      "Building dependency tree       \n",
      "Reading state information... Done\n",
      "swi-prolog is already the newest version (7.6.4+dfsg-1build1).\n",
      "0 upgraded, 0 newly installed, 0 to remove and 37 not upgraded.\n",
      "Requirement already satisfied: pyswip in /usr/local/lib/python3.7/dist-packages (0.2.10)\n"
     ]
    }
   ],
   "source": [
    "!apt install swi-prolog\n",
    "!pip install pyswip"
   ]
  },
  {
   "cell_type": "code",
   "execution_count": null,
   "metadata": {
    "id": "BRXbv0GWM3dB"
   },
   "outputs": [],
   "source": [
    "from pyswip import Prolog\n",
    "import requests\n",
    "import json"
   ]
  },
  {
   "cell_type": "markdown",
   "metadata": {
    "id": "SgvdE4XhIYOa"
   },
   "source": [
    "### Detail on what your expert system will focus upon, and what the askables will be. You need to have a minimum of 8 askables in your expert system, regardless of the domain of your KB. [#rightproblem]\n",
    "\n",
    "We will be using the expert system example provided in the instructions, of helping students find suitable recipes so they are incentivized to eat inside and lower risk of infection. The expert system will function on the following 8 askables: \"How much time does the student have to make the meal?\", \"How much effort in cooking do you want?\", \"What type of meal do you want? (Appetizer, Main, Dessert)\" \"Do you have any dietary goals? (Pleasure, Weight Loss, Weight Gain, etc...\", \"Which cuisine do you prefer?\", \"Which diet do you prefer?\", \"Ingredients to look for?\", \"How many calories are you aiming for?\". Some of these askables are dependent on each other. For example, if the person has a specific diet, that will influence the available options for asking what their preferred cuisine is because we may not have their diet available in all cusines.\n",
    "\n",
    "### Perform data collection for building your expert system by surveying resources available online, guided by the askables that you have chosen. [\\#evidencebased, \\#sourcequality].\n",
    "The data will be collected from the following scraped data: https://raw.githubusercontent.com/mneedham/bbcgoodfood/master/stream_all.json. It is from a github project that scraped BBC's Good Food website for information on their recipes. While it has thousands of data points, the data needed cleaning, so the first 100 were cleaned and kept in a new JSON file presented here: https://gist.githubusercontent.com/pierre-minerva/70bccece0820fa839b53c264cc7460a3/raw/8c7afccd58cf78b42b99ceb0927025896ea108fa/recipe_data.json"
   ]
  },
  {
   "cell_type": "code",
   "execution_count": null,
   "metadata": {
    "id": "GpQhBHnvTieX"
   },
   "outputs": [],
   "source": [
    "recipes = []\n",
    "\n",
    "#get data\n",
    "r = requests.get(\"https://gist.githubusercontent.com/pierre-minerva/70bccece0820fa839b53c264cc7460a3/raw/8c7afccd58cf78b42b99ceb0927025896ea108fa/recipe_data.json\")\n",
    "#Save db\n",
    "with open('recipes.json', 'wb') as f:\n",
    "    f.write(r.content)\n",
    "\n",
    "#process data\n",
    "with open('recipes.json') as f:\n",
    "    for jsonObj in f:\n",
    "        recipesDict = json.loads(jsonObj)\n",
    "        recipes.append(recipesDict)"
   ]
  },
  {
   "cell_type": "markdown",
   "metadata": {
    "id": "WBxgP2WknijY"
   },
   "source": [
    "### Explain the logic of your expert system by showing which values of the askables lead to what specific information being provided to the end user. Any visualization that makes the logic of your expert system clear is acceptable (for example, a tree diagram or table). [#ailogic]\n",
    "\n",
    "  The logic is very straightforward. \n",
    "1. First, we ask if they follow a specific diet (i.e. low-carb) in multiple choice format based on the literals from the data collection. This simply filters out all possible recipes that do not match the user preference. \n",
    "2. Then we ask if they have a dietary goal. The options are \"Weight-Loss\", \"Weight-Gain\", \"Nutrition\", and \"Pleasure\". \n",
    "3. \"Weight-Loss\" and \"Weight-Gain\" prompt a second question asking for the user's target caloric intake, which is used to filter out more results. \"Nutrition\" filters for recipes with 20g of protein or more. \"Pleasure\" doesn't filter for anything. \n",
    "4. Then we ask about total time available to prepare the meal, with options between <5m, <15m, <30m, >30m, filtering appropriately. \n",
    "5. Then we ask for the desired involvement in the cooking process, with the following choices \"Easy\", \"Some Effort\", and \"A Challenge\". \n",
    "6. Then, we ask for the type of meal, the user wants from \"Snack\", \"Main Course\", \"Dessert\", and \"Breakfast\". If they selected \"Weight-Loss\" or \"Nutrion\" earlier, the \"Dessert\" option will be left out. If \"Weight-Gain\", \"Snack\" is left out. \n",
    "7. Then we ask if the user has any ingredients they would like to use from the remaining recipes that still match the previously selected questions. \n",
    "8. Then we ask if the user has any preferred cusine from the recipes remaining that still match the previously selected questsions."
   ]
  },
  {
   "cell_type": "markdown",
   "metadata": {
    "id": "qbHu5OfLytsl"
   },
   "source": [
    "### Using this visualization to help you, code your expert system using either a native Prolog front-end, or one using the PySWIP library to interface a Python frontend. [#aicoding]"
   ]
  },
  {
   "cell_type": "code",
   "execution_count": null,
   "metadata": {
    "id": "phBmbuvCkEvD"
   },
   "outputs": [],
   "source": [
    "import re\n",
    "\n",
    "def list_to_dict(lst):\n",
    "  d = {}\n",
    "  l = list(set(lst))\n",
    "\n",
    "  for i in range(len(l)):\n",
    "    d[i] = l[i]\n",
    "  \n",
    "  return d, l\n",
    "\n",
    "def main():\n",
    "  prolog = Prolog()\n",
    "\n",
    "  #Adding of data to KB\n",
    "  for recipe in recipes:\n",
    "    #recipe\n",
    "    title = recipe['page']['title']\n",
    "    #diet\n",
    "    for diet in recipe['page']['recipe']['diet_types']:\n",
    "      prolog.assertz(f\"diet('{title}','{diet}')\")\n",
    "    #protein\n",
    "    protein = int(re.search(r'\\d+', recipes[0]['page']['recipe']['nutrition_info'][2]).group())\n",
    "    prolog.assertz(f\"protein('{title}',{protein})\")\n",
    "    #calories\n",
    "    calories = int(re.search(r'\\d+', recipes[0]['page']['recipe']['nutrition_info'][1]).group())\n",
    "    prolog.assertz(f\"calories('{title}',{calories})\")\n",
    "    #time\n",
    "    total_time = (recipe['page']['recipe']['cooking_time'] + recipes[0]['page']['recipe']['prep_time'])//60\n",
    "    prolog.assertz(f\"time('{title}',{total_time})\")\n",
    "    #effort\n",
    "    skill_level = recipe['page']['recipe']['skill_level']\n",
    "    prolog.assertz(f\"effort('{title}','{skill_level}')\")\n",
    "    #type\n",
    "    for course in recipe['page']['recipe']['courses']:\n",
    "      prolog.assertz(f\"course('{title}','{course}')\")\n",
    "    #ingredients\n",
    "    for ing in recipe['page']['recipe']['ingredients']:\n",
    "      prolog.assertz(f\"ing('{title}','{ing}')\")\n",
    "    #cuisine\n",
    "    cuisine = recipe['page']['recipe']['cusine']\n",
    "    prolog.assertz(f\"cuisine('{title}','{cuisine}')\")\n",
    "    #recipe\n",
    "    prolog.assertz(f\"recipe('{title}','{diet}',{protein},{calories},{total_time},'{skill_level}','{course}','{ing}','{cuisine}' )\")\n",
    "\n",
    "  prolog.assertz(\"more(X,Y) :- X @> Y\")\n",
    "\n",
    "  #Q1\n",
    "  prolog.assertz(\"diet(D)\")\n",
    "\n",
    "  #Q2\n",
    "  prolog.assertz(\"goal(G)\")\n",
    "\n",
    "  #Q3\n",
    "  prolog.assertz(\"protein(R) :- goal('Nutrition'); protein(R,P); more(P,20)\")\n",
    "\n",
    "  #Q6\n",
    "  #if loss then no dessert\n",
    "\n",
    "  prolog.assertz(\"recipe2(R,D,Ci,Ti,E,Co,I,Cu)\")\n",
    "  prolog.assertz(\"recipe2(R,D,Ci,Ti,E,Co,I,Cu) :- recipe(R,D,P,C,T,E,Co,I,Cu); more(T,Ti); goal('Weight-Loss'); more(Ci,C); dif(Co,'Dessert')\")\n",
    "  prolog.assertz(\"recipe2(R,D,Ci,Ti,E,Co,I,Cu) :- recipe(R,D,P,C,T,E,Co,I,Cu); more(T,Ti); goal('Weight-Gain'); more(C,Ci); dif(Co,'Snack')\")\n",
    "  prolog.assertz(\"recipe2(R,D,Ci,Ti,E,Co,I,Cu) :- recipe(R,D,P,C,T,E,Co,I,Cu); more(T,Ti); goal('Nutrition'); more(P,20); dif(Co,'Dessert')\")\n",
    "  prolog.assertz(\"recipe2(R,D,Ci,Ti,E,Co,I,Cu) :- recipe(R,D,P,C,T,E,Co,I,Cu); more(T,Ti); goal('Pleasure')\")\n",
    "\n",
    "  #Q1\n",
    "  diets = []\n",
    "\n",
    "  for soln in prolog.query(\"diet(R,D)\"):\n",
    "    if \"_\" not in str(soln[\"D\"]):\n",
    "      diets.append(str(soln[\"D\"]))\n",
    "\n",
    "  diets_dict, diets_lst = list_to_dict(diets)\n",
    "  print(\"Do you have any dietary preferences?\")\n",
    "  print(\"Input number of choice:\")\n",
    "  print(diets_dict)\n",
    "  diet_choice = int(input())\n",
    "  prolog.assertz(f\"diet('{diets_dict[diet_choice]}')\")\n",
    "\n",
    "  #Q2\n",
    "  goal_dict = {0:\"Weight-Loss\", 1: \"Weight-Gain\", 2:\"Nutrition\", 3:\"Pleasure\"}\n",
    "  print(\"What is your dietary goal?\")\n",
    "  print(\"Input number of choice:\")\n",
    "  print(goal_dict)\n",
    "  goal_choice = int(input())\n",
    "  prolog.assertz(f\"goal('{goal_dict[goal_choice]}')\")\n",
    "\n",
    "  #Q3\n",
    "  if goal_choice == 0 or goal_choice == 1:\n",
    "    print(\"What are your target calories?\")\n",
    "    calories_choice = int(input())\n",
    "    prolog.assertz(f\"calories({calories_choice})\")\n",
    "  else:\n",
    "    calories_choice = 9999\n",
    "    prolog.assertz(f\"calories({calories_choice})\")\n",
    "\n",
    "  #Q4\n",
    "  print(\"How many minutes do you have to make the food?\")\n",
    "  time_choice = int(input())\n",
    "  prolog.assertz(f\"time({time_choice})\")\n",
    "\n",
    "  #Q5\n",
    "  effort = []\n",
    "\n",
    "  for soln in prolog.query(f\"recipe2(R,'{diets_dict[diet_choice]}',{calories_choice},{time_choice},E,Co,I, Cu)\"):\n",
    "    if \"_\" not in str(soln[\"E\"]):\n",
    "      effort.append(str(soln[\"E\"]))\n",
    "\n",
    "  effort_dict, effort_lst = list_to_dict(effort)\n",
    "  print(\"How much effort do you want to put in?\")\n",
    "  print(\"Input number of choice:\")\n",
    "  print(effort_dict)\n",
    "  effort_choice = int(input())\n",
    "  prolog.assertz(f\"effort('{effort_dict[effort_choice]}')\")\n",
    "\n",
    "  #Q6\n",
    "  course = []\n",
    "\n",
    "  for soln in prolog.query(f\"recipe2(R,'{diets_dict[diet_choice]}',{calories_choice},{time_choice},'{effort_dict[effort_choice]}',Co,I, Cu)\"):\n",
    "    if str(soln[\"Co\"]) in [\"Snack\", \"Main course\", \"Dessert\", \"Breakfast\"]:\n",
    "      course.append(str(soln[\"Co\"]))\n",
    "\n",
    "  course_dict, course_lst = list_to_dict(course)\n",
    "  print(\"What course would you like?\")\n",
    "  print(\"Input number of choice:\")\n",
    "  print(course_dict)\n",
    "  course_choice = int(input())\n",
    "  prolog.assertz(f\"course('{course_dict[course_choice]}')\")\n",
    "\n",
    "  #Q7\n",
    "  ing = []\n",
    "\n",
    "  for soln in prolog.query(f\"recipe2(R,'{diets_dict[diet_choice]}',{calories_choice},{time_choice},'{effort_dict[effort_choice]}','{course_dict[course_choice]}',I, Cu)\"):\n",
    "    if \"_\" not in str(soln[\"I\"]):\n",
    "      ing.append(str(soln[\"I\"]))\n",
    "\n",
    "  ing_dict, ing_lst = list_to_dict(ing)\n",
    "  print(\"Which of these remaining ingredients would you like to be in your meal?\")\n",
    "  print(\"Input number of choice:\")\n",
    "  print(ing_dict)\n",
    "  ing_choice = int(input())\n",
    "  prolog.assertz(f\"ing('{ing_dict[ing_choice]}')\")\n",
    "\n",
    "  #Q8\n",
    "  cuisine = []\n",
    "\n",
    "  for soln in prolog.query(f\"recipe2(R,'{diets_dict[diet_choice]}',{calories_choice},{time_choice},'{effort_dict[effort_choice]}','{course_dict[course_choice]}','{ing_dict[ing_choice]}', Cu)\"):\n",
    "    if \"_\" not in str(soln[\"Cu\"]):\n",
    "      cuisine.append(str(soln[\"Cu\"]))\n",
    "\n",
    "  cuisine_dict, cuisine_lst = list_to_dict(cuisine)\n",
    "  print(\"What cuisine do you want?\")\n",
    "  print(\"Input number of choice:\")\n",
    "  print(cuisine_dict)\n",
    "  cuisine_choice = int(input())\n",
    "\n",
    "  final_recipes = []\n",
    "  for soln in prolog.query(f\"recipe2(R,'{diets_dict[diet_choice]}',{calories_choice},{time_choice},'{effort_dict[effort_choice]}','{course_dict[course_choice]}','{ing_dict[ing_choice]}', '{cuisine_dict[cuisine_choice]}')\"):\n",
    "    if type(soln[\"R\"]) == type(\"str\"):\n",
    "      final_recipes.append(soln[\"R\"])\n",
    "\n",
    "  final_recipes_dict, final_recipes_lst = list_to_dict(final_recipes)\n",
    "  print(\"The following recipes from BBC's Good Foods website match your needs.\")\n",
    "  print(final_recipes_lst)"
   ]
  },
  {
   "cell_type": "code",
   "execution_count": null,
   "metadata": {
    "colab": {
     "base_uri": "https://localhost:8080/"
    },
    "id": "biYZgLAyhhFF",
    "outputId": "a9429299-8474-4aa5-ec15-dd9d48f23966"
   },
   "outputs": [
    {
     "name": "stdout",
     "output_type": "stream",
     "text": [
      "Do you have any dietary preferences?\n",
      "Input number of choice:\n",
      "{0: 'Low-salt', 1: 'Low-calorie', 2: 'Heart Healthy', 3: 'Healthy', 4: 'Low-fat', 5: 'Gluten-free', 6: 'Dairy-free', 7: 'Vegetarian', 8: 'Egg-free', 9: 'Vegan'}\n",
      "4\n",
      "What is your dietary goal?\n",
      "Input number of choice:\n",
      "{0: 'Weight-Loss', 1: 'Weight-Gain', 2: 'Nutrition', 3: 'Pleasure'}\n",
      "0\n",
      "What are your target calories?\n",
      "500\n",
      "How many minutes do you have to make the food?\n",
      "60\n",
      "How much effort do you want to put in?\n",
      "Input number of choice:\n",
      "{0: 'Easy'}\n",
      "0\n",
      "What course would you like?\n",
      "Input number of choice:\n",
      "{0: 'Breakfast', 1: 'Main course'}\n",
      "0\n",
      "Which of these remaining ingredients would you like to be in your meal?\n",
      "Input number of choice:\n",
      "{0: 'gravadlax'}\n",
      "0\n",
      "What cuisine do you want?\n",
      "Input number of choice:\n",
      "{0: 'Scandinavian'}\n",
      "0\n",
      "The following recipes from BBC's Good Foods website match your needs.\n",
      "['Potato &amp; dill pancakes with gravadlax']\n"
     ]
    }
   ],
   "source": [
    "#Test case 1\n",
    "main()"
   ]
  },
  {
   "cell_type": "code",
   "execution_count": null,
   "metadata": {
    "colab": {
     "base_uri": "https://localhost:8080/"
    },
    "id": "BmVL7CQZTvrw",
    "outputId": "b284284b-081f-4e72-f8e6-182899892132"
   },
   "outputs": [
    {
     "name": "stdout",
     "output_type": "stream",
     "text": [
      "Do you have any dietary preferences?\n",
      "Input number of choice:\n",
      "{0: 'Low-salt', 1: 'Low-calorie', 2: 'Heart Healthy', 3: 'Healthy', 4: 'Low-fat', 5: 'Gluten-free', 6: 'Dairy-free', 7: 'Vegetarian', 8: 'Egg-free', 9: 'Vegan'}\n",
      "2\n",
      "What is your dietary goal?\n",
      "Input number of choice:\n",
      "{0: 'Weight-Loss', 1: 'Weight-Gain', 2: 'Nutrition', 3: 'Pleasure'}\n",
      "1\n",
      "What are your target calories?\n",
      "200\n",
      "How many minutes do you have to make the food?\n",
      "60\n",
      "How much effort do you want to put in?\n",
      "Input number of choice:\n",
      "{0: 'Easy'}\n",
      "0\n",
      "What course would you like?\n",
      "Input number of choice:\n",
      "{0: 'Dessert'}\n",
      "0\n",
      "Which of these remaining ingredients would you like to be in your meal?\n",
      "Input number of choice:\n",
      "{0: 'sea salt'}\n",
      "0\n",
      "What cuisine do you want?\n",
      "Input number of choice:\n",
      "{0: ''}\n",
      "0\n",
      "The following recipes from BBC's Good Foods website match your needs.\n",
      "['Chocolate, peanut butter &amp; pretzel cookie bars']\n"
     ]
    }
   ],
   "source": [
    "#Test case 2\n",
    "main()"
   ]
  },
  {
   "cell_type": "code",
   "execution_count": null,
   "metadata": {
    "colab": {
     "base_uri": "https://localhost:8080/"
    },
    "id": "HVWE1BU-lK6V",
    "outputId": "f0695fb0-6a6e-4253-ae9e-da966f6dec89"
   },
   "outputs": [
    {
     "name": "stdout",
     "output_type": "stream",
     "text": [
      "Do you have any dietary preferences?\n",
      "Input number of choice:\n",
      "{0: 'Low-salt', 1: 'Low-calorie', 2: 'Heart Healthy', 3: 'Healthy', 4: 'Low-fat', 5: 'Gluten-free', 6: 'Dairy-free', 7: 'Vegetarian', 8: 'Egg-free', 9: 'Vegan'}\n",
      "0\n",
      "What is your dietary goal?\n",
      "Input number of choice:\n",
      "{0: 'Weight-Loss', 1: 'Weight-Gain', 2: 'Nutrition', 3: 'Pleasure'}\n",
      "3\n",
      "How many minutes do you have to make the food?\n",
      "60\n",
      "How much effort do you want to put in?\n",
      "Input number of choice:\n",
      "{0: 'Easy', 1: 'A challenge', 2: 'More effort'}\n",
      "0\n",
      "What course would you like?\n",
      "Input number of choice:\n",
      "{0: 'Snack', 1: 'Dessert'}\n",
      "0\n",
      "Which of these remaining ingredients would you like to be in your meal?\n",
      "Input number of choice:\n",
      "{0: 'dried cranberries', 1: 'lemon'}\n",
      "1\n",
      "What cuisine do you want?\n",
      "Input number of choice:\n",
      "{0: 'British'}\n",
      "0\n",
      "The following recipes from BBC's Good Foods website match your needs.\n",
      "['Rhubarb &amp; vanilla jam']\n"
     ]
    }
   ],
   "source": [
    "#Test case 3\n",
    "main()"
   ]
  }
 ],
 "metadata": {
  "colab": {
   "collapsed_sections": [],
   "name": "FoodBot Recipe (Prolog Code)",
   "provenance": []
  },
  "kernelspec": {
   "display_name": "Python 3",
   "language": "python",
   "name": "python3"
  },
  "language_info": {
   "codemirror_mode": {
    "name": "ipython",
    "version": 3
   },
   "file_extension": ".py",
   "mimetype": "text/x-python",
   "name": "python",
   "nbconvert_exporter": "python",
   "pygments_lexer": "ipython3",
   "version": "3.8.8"
  }
 },
 "nbformat": 4,
 "nbformat_minor": 1
}
